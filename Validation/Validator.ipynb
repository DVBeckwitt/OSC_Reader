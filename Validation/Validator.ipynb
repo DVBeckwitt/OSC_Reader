{
 "cells": [
  {
   "cell_type": "code",
   "execution_count": 4,
   "metadata": {},
   "outputs": [],
   "source": [
    "# Inspecting the uploaded file to understand its header structure\n",
    "file_path = '78.5_3s.osc'\n",
    "\n",
    "# Read the first 8 KB to examine the structure and header\n",
    "with open(file_path, 'rb') as file:\n",
    "    file_content = file.read(0x1800)  # Read up to offset 0x1760 (inclusive)\n",
    "\n",
    "file_content[:0x180]  # Displaying the first 384 bytes to inspect header structure\n",
    "\n",
    "\n",
    "# Extract the full header from the file to offset 0x1760\n",
    "header_offset = 0x1770  # End of the header section\n",
    "\n",
    "with open(file_path, 'rb') as file:\n",
    "    header = file.read(header_offset)\n",
    "\n",
    "# Save the header to confirm its extraction\n",
    "header[:64], len(header)  # Displaying the start of the header and its length for verification\n",
    "\n",
    "\n",
    "# Define the output file path\n",
    "output_file_path = 'generated_file.osc'\n",
    "\n",
    "# Define the maximum 16-bit value and pattern size (for a reasonable file size)\n",
    "max_16bit_value = 0xFFFF\n",
    "pattern_repeats = 1000  # Number of cycles of counting up and down\n",
    "\n",
    "pattern = bytearray()\n",
    "for _ in range(pattern_repeats):\n",
    "    # Count up from 1 to 0xFFFF\n",
    "    for i in range(1, max_16bit_value + 1):\n",
    "        pattern.extend(i.to_bytes(2, byteorder='big'))\n",
    "    # Count down from 0xFFFE to 1\n",
    "    for i in range(max_16bit_value - 1, 0, -1):\n",
    "        pattern.extend(i.to_bytes(2, byteorder='big'))\n",
    "\n",
    "with open(output_file_path, 'wb') as new_file:\n",
    "    new_file.write(header)\n",
    "    new_file.write(pattern)"
   ]
  },
  {
   "cell_type": "code",
   "execution_count": 7,
   "metadata": {},
   "outputs": [
    {
     "name": "stdout",
     "output_type": "stream",
     "text": [
      "Found 0 differences.\n"
     ]
    }
   ],
   "source": [
    "file1 = open(\"generated_file - copy.asc\", \"r\")\n",
    "file2 = open(\"generated_file.asc\", \"r\")\n",
    "\n",
    "# Skip headers until \"ROI pixel values follow\"\n",
    "while True:\n",
    "    line1 = file1.readline()\n",
    "    line2 = file2.readline()\n",
    "    if \"ROI pixel values follow\" in line1:\n",
    "        break\n",
    "\n",
    "pixel_index = 0\n",
    "differences = []\n",
    "line_count = 0\n",
    "\n",
    "while True:\n",
    "    line1 = file1.readline()\n",
    "    line2 = file2.readline()\n",
    "    if not line1 or not line2:\n",
    "        break  # End of file\n",
    "    \n",
    "    line_count += 1\n",
    "\n",
    "    values1 = line1.split()\n",
    "    values2 = line2.split()\n",
    "\n",
    "    # Compare each value pair\n",
    "    for i, (v1, v2) in enumerate(zip(values1, values2)):\n",
    "        pixel_index += 1\n",
    "        if v1 != v2:\n",
    "            # Record line number (relative to the first pixel line), position in line (i+1), and pixel index\n",
    "            differences.append((line_count, i+1, pixel_index, v1, v2))\n",
    "\n",
    "file1.close()\n",
    "file2.close()\n",
    "\n",
    "print(\"Found\", len(differences), \"differences.\")\n",
    "for diff in differences:\n",
    "    line_num, val_pos, pix_idx, orig_val, new_val = diff\n",
    "    print(f\"Line {line_num}, Value {val_pos}, Pixel {pix_idx}: {orig_val} != {new_val}\")\n"
   ]
  },
  {
   "cell_type": "code",
   "execution_count": null,
   "metadata": {},
   "outputs": [],
   "source": []
  }
 ],
 "metadata": {
  "kernelspec": {
   "display_name": "Python 3",
   "language": "python",
   "name": "python3"
  },
  "language_info": {
   "codemirror_mode": {
    "name": "ipython",
    "version": 3
   },
   "file_extension": ".py",
   "mimetype": "text/x-python",
   "name": "python",
   "nbconvert_exporter": "python",
   "pygments_lexer": "ipython3",
   "version": "3.12.2"
  }
 },
 "nbformat": 4,
 "nbformat_minor": 2
}
